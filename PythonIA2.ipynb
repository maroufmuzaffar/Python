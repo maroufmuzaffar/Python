{
  "nbformat": 4,
  "nbformat_minor": 0,
  "metadata": {
    "colab": {
      "provenance": []
    },
    "kernelspec": {
      "name": "python3",
      "display_name": "Python 3"
    },
    "language_info": {
      "name": "python"
    }
  },
  "cells": [
    {
      "cell_type": "markdown",
      "source": [
        "Q1:calculate and print the minimum maximum,sum,mean and standard deviation of an array"
      ],
      "metadata": {
        "id": "mGN0afRkg7Uh"
      }
    },
    {
      "cell_type": "code",
      "execution_count": 1,
      "metadata": {
        "colab": {
          "base_uri": "https://localhost:8080/"
        },
        "id": "gCOjwvk8WWXp",
        "outputId": "8e914804-b8bf-42a0-bc91-5d7e155e7794"
      },
      "outputs": [
        {
          "output_type": "stream",
          "name": "stdout",
          "text": [
            "Minimum:  1\n",
            "Maximum:  5\n",
            "Sum:  15\n",
            "Mean:  3.0\n",
            "Standard Deviation:  1.4142135623730951\n"
          ]
        }
      ],
      "source": [
        "import numpy as np\n",
        "arr = np.array([1, 2, 3, 4, 5])\n",
        "print(\"Minimum: \", np.min(arr))\n",
        "print(\"Maximum: \", np.max(arr))\n",
        "print(\"Sum: \", np.sum(arr))\n",
        "# Calculate and print the mean standard deviation\n",
        "print(\"Mean: \", np.mean(arr))\n",
        "print(\"Standard Deviation: \", np.std(arr))\n"
      ]
    },
    {
      "cell_type": "code",
      "source": [
        "#Q2:\n",
        "# health_data = np.array([[160, 70, 30],   # height, weight, age for individual 1\n",
        "                        [165, 65, 35],   # height, weight, age for individual 2\n",
        "                        [170, 75, 40]])  # height, weight, age for individual 3\n",
        "\n"
      ],
      "metadata": {
        "id": "GTcTED9RYSD2"
      },
      "execution_count": null,
      "outputs": []
    },
    {
      "cell_type": "code",
      "source": [
        "#QNO4\n",
        "import numpy as np\n",
        "start_temp = 15\n",
        "end_temp = 25\n",
        "\n",
        "# Number of measurements\n",
        "num_measurements = 24\n",
        "temperature_readings = np.linspace(start_temp, end_temp, num_measurements)\n",
        "\n",
        "print(temperature_readings)\n"
      ],
      "metadata": {
        "colab": {
          "base_uri": "https://localhost:8080/"
        },
        "id": "oC7O8MRtYSGX",
        "outputId": "fa328c60-8949-4f64-9855-8c76625c0fce"
      },
      "execution_count": 5,
      "outputs": [
        {
          "output_type": "stream",
          "name": "stdout",
          "text": [
            "[15.         15.43478261 15.86956522 16.30434783 16.73913043 17.17391304\n",
            " 17.60869565 18.04347826 18.47826087 18.91304348 19.34782609 19.7826087\n",
            " 20.2173913  20.65217391 21.08695652 21.52173913 21.95652174 22.39130435\n",
            " 22.82608696 23.26086957 23.69565217 24.13043478 24.56521739 25.        ]\n"
          ]
        }
      ]
    },
    {
      "cell_type": "code",
      "source": [
        "#Q6\n",
        "import numpy as np\n",
        "mean = [0, 0]\n",
        "cov = [[1, 0.5], [0.5, 2]]\n",
        "\n",
        "samples = np.random.multivariate_normal(mean, cov, 100)\n",
        "\n",
        "print(samples)\n"
      ],
      "metadata": {
        "colab": {
          "base_uri": "https://localhost:8080/"
        },
        "id": "T8GCkaK5psZK",
        "outputId": "888e570f-a4a7-47d0-b1ea-9c61a4fcc66f"
      },
      "execution_count": 6,
      "outputs": [
        {
          "output_type": "stream",
          "name": "stdout",
          "text": [
            "[[ 6.86402025e-01  5.10592147e-01]\n",
            " [ 5.70091554e-01  4.82262377e-01]\n",
            " [-4.66385112e-02 -7.77899408e-01]\n",
            " [-1.08955645e+00 -2.17181403e+00]\n",
            " [ 1.20853475e+00  2.94697944e+00]\n",
            " [-2.97778704e-01  9.99177013e-01]\n",
            " [ 3.59609471e-01  9.46879070e-01]\n",
            " [ 3.30745396e-01 -3.94758834e-01]\n",
            " [ 1.19549659e+00 -3.73549564e-01]\n",
            " [ 8.58230649e-01 -1.31150689e+00]\n",
            " [-1.16327057e+00  3.07161212e-02]\n",
            " [ 1.02805607e+00 -5.07214715e-02]\n",
            " [-2.02725725e+00  9.77165917e-01]\n",
            " [-1.15448699e-01 -2.91951189e-01]\n",
            " [ 1.17468962e-01  1.52087283e+00]\n",
            " [ 6.97282688e-01  9.14834517e-01]\n",
            " [ 5.31311521e-01 -1.17612502e+00]\n",
            " [-1.62523845e+00 -1.85265879e+00]\n",
            " [-1.52741649e+00 -2.87677382e+00]\n",
            " [ 1.14722664e-01 -1.35916149e+00]\n",
            " [-6.69067395e-01 -1.76157323e+00]\n",
            " [ 1.85980902e-02  1.55842499e+00]\n",
            " [-2.13803915e-01 -4.46087338e-01]\n",
            " [ 5.75890899e-01 -1.83924169e-01]\n",
            " [-1.60542576e-01  7.81877841e-01]\n",
            " [ 4.61928782e-01 -9.12275361e-02]\n",
            " [ 1.04912569e+00  5.67709322e-01]\n",
            " [ 4.25554977e-01  2.11488215e-01]\n",
            " [-4.93639004e-01  6.74955027e-03]\n",
            " [-9.65212089e-02 -4.40220407e-01]\n",
            " [-9.68320475e-01 -2.48451100e+00]\n",
            " [-8.92716406e-02  1.30484680e+00]\n",
            " [-7.25037628e-01  3.80826821e+00]\n",
            " [ 6.58687037e-01  1.34239886e+00]\n",
            " [-2.94027809e-01  6.70957181e-01]\n",
            " [ 1.88682146e+00  1.46444988e+00]\n",
            " [ 2.14078737e+00  7.59893021e-01]\n",
            " [-1.47764797e-01  1.16286511e-01]\n",
            " [ 2.80313627e+00  7.41123639e-01]\n",
            " [ 1.41751979e+00  1.15129317e-01]\n",
            " [-9.59533602e-02 -8.85275198e-01]\n",
            " [-4.15072644e-01 -2.66479548e-02]\n",
            " [-2.98750396e-01  1.22103520e-01]\n",
            " [-6.12827817e-02 -2.67900798e-01]\n",
            " [-6.08734470e-01 -1.74848233e+00]\n",
            " [-2.45048455e+00 -3.62783220e-01]\n",
            " [-3.09820797e-01  2.48546549e+00]\n",
            " [-2.31737861e-01  6.34502902e-01]\n",
            " [-1.18451466e+00 -2.74025430e-01]\n",
            " [-1.15404320e-01  4.90557313e-01]\n",
            " [-2.71072691e-01 -4.46509842e-01]\n",
            " [-5.71523727e-02 -1.66128686e-01]\n",
            " [ 4.38723373e-01 -3.41740816e-01]\n",
            " [ 9.21961694e-01  6.18833929e-01]\n",
            " [ 1.80471685e-01 -2.69561030e+00]\n",
            " [ 6.69266183e-02 -1.10180905e+00]\n",
            " [-8.56529373e-01 -3.06774179e+00]\n",
            " [ 1.81696160e+00  3.25928007e+00]\n",
            " [-9.88418822e-02 -2.12168527e+00]\n",
            " [-8.09071944e-01 -1.87697669e+00]\n",
            " [ 5.50260850e-01  1.54714482e+00]\n",
            " [-1.45423764e+00 -1.15356188e+00]\n",
            " [ 1.28370035e+00  2.24079588e+00]\n",
            " [-4.48933293e-01  8.61990986e-01]\n",
            " [ 1.23947240e+00  2.77631189e+00]\n",
            " [ 3.25581271e-01 -1.60932449e+00]\n",
            " [-9.84446579e-01 -1.27513521e+00]\n",
            " [-1.54862908e+00 -5.79108645e-01]\n",
            " [ 2.19538418e-01 -2.31811304e-01]\n",
            " [ 5.36163224e-01  7.32450003e-02]\n",
            " [-1.22224436e+00 -9.29738149e-01]\n",
            " [-9.98916447e-01  8.23801000e-01]\n",
            " [ 4.78113401e-01 -1.15531004e+00]\n",
            " [ 6.01498640e-01  1.14027138e+00]\n",
            " [ 1.03337650e+00  2.58251924e+00]\n",
            " [ 3.43793173e-01  1.57357973e+00]\n",
            " [-5.67716677e-02  1.02831063e+00]\n",
            " [ 6.14879997e-02  1.57620741e+00]\n",
            " [-8.65142408e-01  2.32075620e+00]\n",
            " [-4.67550139e-01 -2.30053076e-01]\n",
            " [ 5.56340479e-01 -4.45098597e-01]\n",
            " [-3.12159249e-02 -1.44170242e-02]\n",
            " [-8.40816563e-02  7.72729234e-01]\n",
            " [ 7.96341043e-01  5.76149102e-01]\n",
            " [ 1.80699075e-01  1.77853137e+00]\n",
            " [ 9.75875749e-01  3.06515992e+00]\n",
            " [-2.06619176e-01  2.32789096e+00]\n",
            " [ 1.81075780e-03  3.61462986e-01]\n",
            " [ 1.32678602e+00  2.73214452e+00]\n",
            " [ 4.87421322e-01  9.66723881e-01]\n",
            " [-1.23239932e+00 -1.62281066e+00]\n",
            " [-6.12512519e-01 -6.77602799e-02]\n",
            " [ 6.99343245e-02  6.82350180e-01]\n",
            " [-9.51645635e-01  1.96928705e+00]\n",
            " [-1.41524255e+00  1.58374237e-01]\n",
            " [-2.98015273e-01 -9.48334481e-01]\n",
            " [ 2.43795181e-01 -2.54636205e+00]\n",
            " [-1.03425956e-01  1.90577458e+00]\n",
            " [-5.43742515e-01  1.08388487e+00]\n",
            " [-1.25007269e-01 -1.48401212e+00]]\n"
          ]
        }
      ]
    },
    {
      "cell_type": "code",
      "source": [
        "#Q8:\n",
        "import numpy as np\n",
        "array = np.array([[1, 2, 3], [4, 5, 6], [7, 8, 9]])\n",
        "print(\"Original Array:\")\n",
        "print(array)\n",
        "#  filter out numbers greater than 5\n",
        "filtered_array = array[array > 5]\n",
        "print(\"Filtered Array:\")\n",
        "print(filtered_array)\n"
      ],
      "metadata": {
        "id": "LKImJqMBYSJB"
      },
      "execution_count": null,
      "outputs": []
    },
    {
      "cell_type": "code",
      "source": [
        "#15\n",
        "student_data = [\n",
        "    {\"StudentID\": 1, \"Subject\": \"Math\", \"Grade\": 88},\n",
        "    {\"StudentID\": 2, \"Subject\": \"Science\", \"Grade\": 92},\n",
        "    {\"StudentID\": 3, \"Subject\": \"History\", \"Grade\": 85},\n",
        "    {\"StudentID\": 4, \"Subject\": \"Math\", \"Grade\": 87},\n",
        "    {\"StudentID\": 5, \"Subject\": \"Science\", \"Grade\": 90},\n",
        "    {\"StudentID\": 6, \"Subject\": \"History\", \"Grade\": 82},\n",
        "    {\"StudentID\": 7, \"Subject\": \"Math\", \"Grade\": 85},\n",
        "    {\"StudentID\": 8, \"Subject\": \"Science\", \"Grade\": 91},\n",
        "    {\"StudentID\": 9, \"Subject\": \"History\", \"Grade\": 84},\n",
        "    {\"StudentID\": 10, \"Subject\": \"Math\", \"Grade\": 89}\n",
        "]\n",
        "\n",
        "subject_data = {}\n",
        "for student in student_data:\n",
        "    subject = student[\"Subject\"]\n",
        "    grade = student[\"Grade\"]\n",
        "    if subject not in subject_data:\n",
        "        subject_data[subject] = {\"total_grade\": grade, \"count\": 1}\n",
        "    else:\n",
        "        subject_data[subject][\"total_grade\"] += grade\n",
        "        subject_data[subject][\"count\"] += 1\n",
        "for subject, data in subject_data.items():\n",
        "    average_grade = data[\"total_grade\"] / data[\"count\"]\n",
        "    print(f\"The average grade for {subject} is {average_grade:.2f}\")\n"
      ],
      "metadata": {
        "id": "5OeXAlt8pnCn"
      },
      "execution_count": null,
      "outputs": []
    },
    {
      "cell_type": "code",
      "source": [
        "#Q13\n",
        "import pandas as pd\n",
        "\n",
        "data = [\n",
        "    {\"TeamID\": 1, \"GamesPlayed\": 10, \"Wins\": 7},\n",
        "    {\"TeamID\": 2, \"GamesPlayed\": 10, \"Wins\": 6},\n",
        "    {\"TeamID\": 3, \"GamesPlayed\": 10, \"Wins\": 8},\n",
        "    {\"TeamID\": 4, \"GamesPlayed\": 10, \"Wins\": 5},\n",
        "    {\"TeamID\": 5, \"GamesPlayed\": 10, \"Wins\": 9},\n",
        "    {\"TeamID\": 6, \"GamesPlayed\": 10, \"Wins\": 6},\n",
        "    {\"TeamID\": 7, \"GamesPlayed\": 10, \"Wins\": 7},\n",
        "    {\"TeamID\": 8, \"GamesPlayed\": 10, \"Wins\": 4},\n",
        "    {\"TeamID\": 9, \"GamesPlayed\": 10, \"Wins\": 9},\n",
        "    {\"TeamID\": 10, \"GamesPlayed\": 10, \"Wins\": 5}\n",
        "]\n",
        "\n",
        "df = pd.DataFrame(data)\n",
        "df['WinPercentage'] = df['Wins'] / df['GamesPlayed']\n",
        "strengths = df[df['WinPercentage'] > 0.5]\n",
        "weaknesses = df[df['WinPercentage'] <= 0.5]\n",
        "print(\"Strengths:\")\n",
        "print(strengths)\n",
        "\n",
        "print(\"\\nWeaknesses:\")\n",
        "print(weaknesses)\n"
      ],
      "metadata": {
        "id": "zDZyN0ncpnFt"
      },
      "execution_count": null,
      "outputs": []
    },
    {
      "cell_type": "code",
      "source": [
        "#Q11\n",
        "\n",
        "import pandas as pd\n",
        "\n",
        "# Given data\n",
        "data = {\n",
        "    'Product': ['Apples', 'Bananas', 'Cherries', 'Dates', 'Elderberries', 'Flour', 'Grapes'],\n",
        "    'Category': ['Fruit', 'Fruit', 'Fruit', 'Fruit', 'Fruit', 'Bakery', 'Fruit'],\n",
        "    'Price': [1.20, 0.50, 3.00, 2.50, 4.00, 1.50, 2.00],\n",
        "    'Promotion': [True, False, True, True, False, True, False]\n",
        "}\n",
        "\n",
        "df = pd.DataFrame(data)\n",
        "fruit_df = df[df['Category'] == 'Fruit']e\n",
        "average_price = fruit_df['Price'].mean()\n",
        "result = fruit_df[(fruit_df['Price'] > average_price) & (fruit_df['Promotion'] == False)]\n",
        "# Print the result\n",
        "print(result)\n",
        "\n"
      ],
      "metadata": {
        "id": "olWdzjjgpnHe"
      },
      "execution_count": null,
      "outputs": []
    },
    {
      "cell_type": "code",
      "source": [
        "#Q7:\n",
        "\n"
      ],
      "metadata": {
        "id": "JaKmWC8ypnK8"
      },
      "execution_count": null,
      "outputs": []
    },
    {
      "cell_type": "code",
      "source": [],
      "metadata": {
        "id": "l2KlxQ42u5SS"
      },
      "execution_count": null,
      "outputs": []
    },
    {
      "cell_type": "code",
      "source": [],
      "metadata": {
        "id": "3Bd0GEN0YSLo"
      },
      "execution_count": null,
      "outputs": []
    },
    {
      "cell_type": "markdown",
      "source": [],
      "metadata": {
        "id": "NAob5O8yxpgD"
      }
    },
    {
      "cell_type": "code",
      "source": [],
      "metadata": {
        "id": "reG8CHd1YSOa"
      },
      "execution_count": null,
      "outputs": []
    },
    {
      "cell_type": "code",
      "source": [],
      "metadata": {
        "id": "a_OIdUX-YSQ_"
      },
      "execution_count": null,
      "outputs": []
    },
    {
      "cell_type": "code",
      "source": [],
      "metadata": {
        "id": "RafkfgesYSUd"
      },
      "execution_count": null,
      "outputs": []
    }
  ]
}